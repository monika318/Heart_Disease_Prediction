{
 "cells": [
  {
   "cell_type": "code",
   "execution_count": 1,
   "id": "a5ae96fa-964c-4b35-ab47-b4db8503fc7d",
   "metadata": {},
   "outputs": [],
   "source": [
    "%load_ext autoreload\n",
    "%autoreload 2"
   ]
  },
  {
   "cell_type": "code",
   "execution_count": 2,
   "id": "f4cff12c-3dee-4d2e-bf1f-4c8ae14124a4",
   "metadata": {},
   "outputs": [
    {
     "name": "stdout",
     "output_type": "stream",
     "text": [
      "Looking in indexes: https://test.pypi.org/simple/\n",
      "Requirement already satisfied: my-krml-25548660 in c:\\users\\monik\\appdata\\local\\pypoetry\\cache\\virtualenvs\\adv-mla-lab-3-yes-ixmn-py3.11\\lib\\site-packages (0.1.4)\n",
      "Requirement already satisfied: pandas==2.2.2 in c:\\users\\monik\\appdata\\local\\pypoetry\\cache\\virtualenvs\\adv-mla-lab-3-yes-ixmn-py3.11\\lib\\site-packages (from my-krml-25548660) (2.2.2)\n",
      "Requirement already satisfied: scikit-learn==1.5.1 in c:\\users\\monik\\appdata\\local\\pypoetry\\cache\\virtualenvs\\adv-mla-lab-3-yes-ixmn-py3.11\\lib\\site-packages (from my-krml-25548660) (1.5.1)\n",
      "Requirement already satisfied: numpy>=1.23.2 in c:\\users\\monik\\appdata\\local\\pypoetry\\cache\\virtualenvs\\adv-mla-lab-3-yes-ixmn-py3.11\\lib\\site-packages (from pandas==2.2.2->my-krml-25548660) (2.3.2)\n",
      "Requirement already satisfied: python-dateutil>=2.8.2 in c:\\users\\monik\\appdata\\local\\pypoetry\\cache\\virtualenvs\\adv-mla-lab-3-yes-ixmn-py3.11\\lib\\site-packages (from pandas==2.2.2->my-krml-25548660) (2.9.0.post0)\n",
      "Requirement already satisfied: pytz>=2020.1 in c:\\users\\monik\\appdata\\local\\pypoetry\\cache\\virtualenvs\\adv-mla-lab-3-yes-ixmn-py3.11\\lib\\site-packages (from pandas==2.2.2->my-krml-25548660) (2025.2)\n",
      "Requirement already satisfied: tzdata>=2022.7 in c:\\users\\monik\\appdata\\local\\pypoetry\\cache\\virtualenvs\\adv-mla-lab-3-yes-ixmn-py3.11\\lib\\site-packages (from pandas==2.2.2->my-krml-25548660) (2025.2)\n",
      "Requirement already satisfied: scipy>=1.6.0 in c:\\users\\monik\\appdata\\local\\pypoetry\\cache\\virtualenvs\\adv-mla-lab-3-yes-ixmn-py3.11\\lib\\site-packages (from scikit-learn==1.5.1->my-krml-25548660) (1.16.1)\n",
      "Requirement already satisfied: joblib>=1.2.0 in c:\\users\\monik\\appdata\\local\\pypoetry\\cache\\virtualenvs\\adv-mla-lab-3-yes-ixmn-py3.11\\lib\\site-packages (from scikit-learn==1.5.1->my-krml-25548660) (1.5.2)\n",
      "Requirement already satisfied: threadpoolctl>=3.1.0 in c:\\users\\monik\\appdata\\local\\pypoetry\\cache\\virtualenvs\\adv-mla-lab-3-yes-ixmn-py3.11\\lib\\site-packages (from scikit-learn==1.5.1->my-krml-25548660) (3.6.0)\n",
      "Requirement already satisfied: six>=1.5 in c:\\users\\monik\\appdata\\local\\pypoetry\\cache\\virtualenvs\\adv-mla-lab-3-yes-ixmn-py3.11\\lib\\site-packages (from python-dateutil>=2.8.2->pandas==2.2.2->my-krml-25548660) (1.17.0)\n",
      "Note: you may need to restart the kernel to use updated packages.\n"
     ]
    }
   ],
   "source": [
    "pip install -i https://test.pypi.org/simple/ my-krml-25548660"
   ]
  },
  {
   "cell_type": "code",
   "execution_count": 3,
   "id": "0a427b33-f3f0-4da4-be4d-12362fd36df2",
   "metadata": {},
   "outputs": [],
   "source": [
    "import pandas as pd\n",
    "import numpy as np"
   ]
  },
  {
   "cell_type": "code",
   "execution_count": 4,
   "id": "b04136a4-7e38-4b50-8b02-e8699c1536c7",
   "metadata": {},
   "outputs": [],
   "source": [
    "df = pd.read_csv('../data/raw/CVD_cleaned.csv')"
   ]
  },
  {
   "cell_type": "code",
   "execution_count": 5,
   "id": "2c0e8102-7e30-4657-9312-606f641fc674",
   "metadata": {},
   "outputs": [
    {
     "data": {
      "text/html": [
       "<div>\n",
       "<style scoped>\n",
       "    .dataframe tbody tr th:only-of-type {\n",
       "        vertical-align: middle;\n",
       "    }\n",
       "\n",
       "    .dataframe tbody tr th {\n",
       "        vertical-align: top;\n",
       "    }\n",
       "\n",
       "    .dataframe thead th {\n",
       "        text-align: right;\n",
       "    }\n",
       "</style>\n",
       "<table border=\"1\" class=\"dataframe\">\n",
       "  <thead>\n",
       "    <tr style=\"text-align: right;\">\n",
       "      <th></th>\n",
       "      <th>General_Health</th>\n",
       "      <th>Checkup</th>\n",
       "      <th>Exercise</th>\n",
       "      <th>Heart_Disease</th>\n",
       "      <th>Skin_Cancer</th>\n",
       "      <th>Other_Cancer</th>\n",
       "      <th>Depression</th>\n",
       "      <th>Diabetes</th>\n",
       "      <th>Arthritis</th>\n",
       "      <th>Sex</th>\n",
       "      <th>Age_Category</th>\n",
       "      <th>Height_(cm)</th>\n",
       "      <th>Weight_(kg)</th>\n",
       "      <th>BMI</th>\n",
       "      <th>Smoking_History</th>\n",
       "      <th>Alcohol_Consumption</th>\n",
       "      <th>Fruit_Consumption</th>\n",
       "      <th>Green_Vegetables_Consumption</th>\n",
       "      <th>FriedPotato_Consumption</th>\n",
       "    </tr>\n",
       "  </thead>\n",
       "  <tbody>\n",
       "    <tr>\n",
       "      <th>0</th>\n",
       "      <td>Poor</td>\n",
       "      <td>Within the past 2 years</td>\n",
       "      <td>No</td>\n",
       "      <td>No</td>\n",
       "      <td>No</td>\n",
       "      <td>No</td>\n",
       "      <td>No</td>\n",
       "      <td>No</td>\n",
       "      <td>Yes</td>\n",
       "      <td>Female</td>\n",
       "      <td>70-74</td>\n",
       "      <td>150.0</td>\n",
       "      <td>32.66</td>\n",
       "      <td>14.54</td>\n",
       "      <td>Yes</td>\n",
       "      <td>0.0</td>\n",
       "      <td>30.0</td>\n",
       "      <td>16.0</td>\n",
       "      <td>12.0</td>\n",
       "    </tr>\n",
       "    <tr>\n",
       "      <th>1</th>\n",
       "      <td>Very Good</td>\n",
       "      <td>Within the past year</td>\n",
       "      <td>No</td>\n",
       "      <td>Yes</td>\n",
       "      <td>No</td>\n",
       "      <td>No</td>\n",
       "      <td>No</td>\n",
       "      <td>Yes</td>\n",
       "      <td>No</td>\n",
       "      <td>Female</td>\n",
       "      <td>70-74</td>\n",
       "      <td>165.0</td>\n",
       "      <td>77.11</td>\n",
       "      <td>28.29</td>\n",
       "      <td>No</td>\n",
       "      <td>0.0</td>\n",
       "      <td>30.0</td>\n",
       "      <td>0.0</td>\n",
       "      <td>4.0</td>\n",
       "    </tr>\n",
       "    <tr>\n",
       "      <th>2</th>\n",
       "      <td>Very Good</td>\n",
       "      <td>Within the past year</td>\n",
       "      <td>Yes</td>\n",
       "      <td>No</td>\n",
       "      <td>No</td>\n",
       "      <td>No</td>\n",
       "      <td>No</td>\n",
       "      <td>Yes</td>\n",
       "      <td>No</td>\n",
       "      <td>Female</td>\n",
       "      <td>60-64</td>\n",
       "      <td>163.0</td>\n",
       "      <td>88.45</td>\n",
       "      <td>33.47</td>\n",
       "      <td>No</td>\n",
       "      <td>4.0</td>\n",
       "      <td>12.0</td>\n",
       "      <td>3.0</td>\n",
       "      <td>16.0</td>\n",
       "    </tr>\n",
       "    <tr>\n",
       "      <th>3</th>\n",
       "      <td>Poor</td>\n",
       "      <td>Within the past year</td>\n",
       "      <td>Yes</td>\n",
       "      <td>Yes</td>\n",
       "      <td>No</td>\n",
       "      <td>No</td>\n",
       "      <td>No</td>\n",
       "      <td>Yes</td>\n",
       "      <td>No</td>\n",
       "      <td>Male</td>\n",
       "      <td>75-79</td>\n",
       "      <td>180.0</td>\n",
       "      <td>93.44</td>\n",
       "      <td>28.73</td>\n",
       "      <td>No</td>\n",
       "      <td>0.0</td>\n",
       "      <td>30.0</td>\n",
       "      <td>30.0</td>\n",
       "      <td>8.0</td>\n",
       "    </tr>\n",
       "    <tr>\n",
       "      <th>4</th>\n",
       "      <td>Good</td>\n",
       "      <td>Within the past year</td>\n",
       "      <td>No</td>\n",
       "      <td>No</td>\n",
       "      <td>No</td>\n",
       "      <td>No</td>\n",
       "      <td>No</td>\n",
       "      <td>No</td>\n",
       "      <td>No</td>\n",
       "      <td>Male</td>\n",
       "      <td>80+</td>\n",
       "      <td>191.0</td>\n",
       "      <td>88.45</td>\n",
       "      <td>24.37</td>\n",
       "      <td>Yes</td>\n",
       "      <td>0.0</td>\n",
       "      <td>8.0</td>\n",
       "      <td>4.0</td>\n",
       "      <td>0.0</td>\n",
       "    </tr>\n",
       "  </tbody>\n",
       "</table>\n",
       "</div>"
      ],
      "text/plain": [
       "  General_Health                  Checkup Exercise Heart_Disease Skin_Cancer  \\\n",
       "0           Poor  Within the past 2 years       No            No          No   \n",
       "1      Very Good     Within the past year       No           Yes          No   \n",
       "2      Very Good     Within the past year      Yes            No          No   \n",
       "3           Poor     Within the past year      Yes           Yes          No   \n",
       "4           Good     Within the past year       No            No          No   \n",
       "\n",
       "  Other_Cancer Depression Diabetes Arthritis     Sex Age_Category  \\\n",
       "0           No         No       No       Yes  Female        70-74   \n",
       "1           No         No      Yes        No  Female        70-74   \n",
       "2           No         No      Yes        No  Female        60-64   \n",
       "3           No         No      Yes        No    Male        75-79   \n",
       "4           No         No       No        No    Male          80+   \n",
       "\n",
       "   Height_(cm)  Weight_(kg)    BMI Smoking_History  Alcohol_Consumption  \\\n",
       "0        150.0        32.66  14.54             Yes                  0.0   \n",
       "1        165.0        77.11  28.29              No                  0.0   \n",
       "2        163.0        88.45  33.47              No                  4.0   \n",
       "3        180.0        93.44  28.73              No                  0.0   \n",
       "4        191.0        88.45  24.37             Yes                  0.0   \n",
       "\n",
       "   Fruit_Consumption  Green_Vegetables_Consumption  FriedPotato_Consumption  \n",
       "0               30.0                          16.0                     12.0  \n",
       "1               30.0                           0.0                      4.0  \n",
       "2               12.0                           3.0                     16.0  \n",
       "3               30.0                          30.0                      8.0  \n",
       "4                8.0                           4.0                      0.0  "
      ]
     },
     "execution_count": 5,
     "metadata": {},
     "output_type": "execute_result"
    }
   ],
   "source": [
    "df.head()"
   ]
  },
  {
   "cell_type": "code",
   "execution_count": 6,
   "id": "8fc1f4d6-e044-453a-88fa-e9c37c736458",
   "metadata": {},
   "outputs": [],
   "source": [
    "df_cleaned = df.copy()"
   ]
  },
  {
   "cell_type": "code",
   "execution_count": 7,
   "id": "6d20b88a-2cc5-4aaa-b7d2-7cf883ada568",
   "metadata": {},
   "outputs": [],
   "source": [
    "# Solution:\n",
    "target = df_cleaned.pop('Heart_Disease')\n",
    "target = target.map({'Yes': 1, 'No': 0})"
   ]
  },
  {
   "cell_type": "code",
   "execution_count": 10,
   "id": "53e290b8-202b-4508-b571-afb3d9e3e8ea",
   "metadata": {},
   "outputs": [],
   "source": [
    "from my_krml_25548660.data.sets import split_sets_random\n",
    "\n",
    "X_train, y_train, X_val, y_val, X_test, y_test = split_sets_random(df_cleaned, target, test_ratio=0.2)"
   ]
  },
  {
   "cell_type": "code",
   "execution_count": 11,
   "id": "27c10efa-d2f8-42a7-bd58-67fa7da080df",
   "metadata": {},
   "outputs": [],
   "source": [
    "# Solution\n",
    "from my_krml_25548660.data.sets import save_sets\n",
    "\n",
    "save_sets(X_train, y_train, X_val, y_val, X_test, y_test, path='../data/processed/')"
   ]
  },
  {
   "cell_type": "code",
   "execution_count": 15,
   "id": "77a9baaa-9396-41b2-8f47-cb699c159bd8",
   "metadata": {},
   "outputs": [],
   "source": [
    "from sklearn.dummy import DummyClassifier"
   ]
  },
  {
   "cell_type": "code",
   "execution_count": 16,
   "id": "a3cf516e-de76-41f9-91ee-12f63f1c9802",
   "metadata": {},
   "outputs": [],
   "source": [
    "# Solution:\n",
    "base_model = DummyClassifier(strategy='most_frequent')"
   ]
  },
  {
   "cell_type": "code",
   "execution_count": 18,
   "id": "d855b78f-a2c7-4fd2-ab81-b5458afc73b2",
   "metadata": {},
   "outputs": [],
   "source": [
    "# Solution:\n",
    "base_model.fit(X_train, y_train)\n",
    "y_base = base_model.predict(X_train)"
   ]
  },
  {
   "cell_type": "code",
   "execution_count": 19,
   "id": "977d6518-fb85-4d85-a5c1-4c8a52d12e87",
   "metadata": {},
   "outputs": [
    {
     "name": "stdout",
     "output_type": "stream",
     "text": [
      "Accuracy Training: 0.9196112502158522\n",
      "F1 Training: 0.0\n"
     ]
    }
   ],
   "source": [
    "from my_krml_25548660.models.performance import print_classifier_scores\n",
    "\n",
    "print_classifier_scores(y_preds=y_base, y_actuals=y_train, set_name='Training')"
   ]
  }
 ],
 "metadata": {
  "kernelspec": {
   "display_name": "Python 3 (ipykernel)",
   "language": "python",
   "name": "python3"
  },
  "language_info": {
   "codemirror_mode": {
    "name": "ipython",
    "version": 3
   },
   "file_extension": ".py",
   "mimetype": "text/x-python",
   "name": "python",
   "nbconvert_exporter": "python",
   "pygments_lexer": "ipython3",
   "version": "3.11.4"
  }
 },
 "nbformat": 4,
 "nbformat_minor": 5
}
